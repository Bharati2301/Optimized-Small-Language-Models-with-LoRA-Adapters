{
 "cells": [
  {
   "cell_type": "code",
   "execution_count": null,
   "metadata": {
    "trusted": true
   },
   "outputs": [],
   "source": [
    "!pip install transformers datasets torch rouge-score"
   ]
  },
  {
   "cell_type": "code",
   "execution_count": null,
   "metadata": {
    "trusted": true
   },
   "outputs": [],
   "source": [
    "from rouge_score import rouge_scorer\n",
    "import json"
   ]
  },
  {
   "cell_type": "code",
   "execution_count": null,
   "metadata": {
    "_cell_guid": "b1076dfc-b9ad-4769-8c92-a6c4dae69d19",
    "_uuid": "8f2839f25d086af736a60e9eeb907d3b93b6e0e5",
    "trusted": true
   },
   "outputs": [],
   "source": [
    "from datasets import load_dataset\n",
    "from huggingface_hub import login\n",
    "login(token=hf_token)\n",
    "dataset = load_dataset(\"vijay-ravichander/cnn_databricks_summarization\", split=\"test\")"
   ]
  },
  {
   "cell_type": "code",
   "execution_count": null,
   "metadata": {
    "trusted": true
   },
   "outputs": [],
   "source": [
    "def formatting_prompts_func(example):\n",
    "    messages = [\n",
    "    {\"role\": \"user\", \"content\": example['instruction'] + \"\\n\" + example[\"context\"] + \"\\n\" + \"Given the instruction and context. Generate a summary\"},\n",
    "    {\"role\": \"assistant\", \"content\": example['response']},\n",
    "    ]\n",
    "    texts = tokenizer.apply_chat_template(messages, tokenize = False, add_generation_prompt = False)\n",
    "    return { \"task\" : texts}\n",
    "\n",
    "dataset = dataset.map(formatting_prompts_func, batched= False)"
   ]
  },
  {
   "cell_type": "code",
   "execution_count": null,
   "metadata": {
    "trusted": true
   },
   "outputs": [],
   "source": [
    "def tokenize_function(example):\n",
    "    outputs = tokenizer(example[\"task\"], truncation=True, padding=\"max_length\", max_length=5096)\n",
    "    return outputs\n",
    "    \n",
    "tokenized_datasets = dataset.map(tokenize_function, batched=True, remove_columns = [\"instruction\", \"context\", \"response\" ], load_from_cache_file=False)\n",
    "tokenized_datasets.set_format(\"torch\")"
   ]
  },
  {
   "cell_type": "code",
   "execution_count": null,
   "metadata": {
    "trusted": true
   },
   "outputs": [],
   "source": [
    "from unsloth.chat_templates import get_chat_template\n",
    "from unsloth import FastLanguageModel\n",
    "\n",
    "tokenizer = get_chat_template(\n",
    "    tokenizer,\n",
    "    chat_template = \"llama-3.1\",\n",
    ")\n",
    "\n",
    "output_file = \"llama1b_all_r128_cnn_responses.jsonl\"\n",
    "#output_file = \"llama1b_attn_r128_cnn_responses.jsonl\"\n",
    "#output_file = \"llama1b_mlp_r128_cnn_responses.jsonl\"\n",
    "\n",
    "scorer = rouge_scorer.RougeScorer(['rouge1', 'rouge2', 'rougeL'], use_stemmer=True)\n",
    "\n",
    "model, tokenizer = FastLanguageModel.from_pretrained(\n",
    "    model_name = 'vijay-ravichander/Llama-1B-Summarization-LoRA-All-r128-merged',\n",
    "    #model_name = 'vijay-ravichander/Llama-1B-Summarization-LoRA-Attn-r128-merged',\n",
    "    #model_name = 'vijay-ravichander/Llama-1B-Summarization-LoRA-MLP-r128-merged',\n",
    "    max_seq_length = 2048,\n",
    "    dtype = torch.float16,\n",
    "    load_in_4bit = False,\n",
    ")\n",
    "FastLanguageModel.for_inference(model)"
   ]
  },
  {
   "cell_type": "code",
   "execution_count": null,
   "metadata": {
    "trusted": true
   },
   "outputs": [],
   "source": [
    "def generate_summaries(article, num_completions=5):\n",
    "    summaries = []\n",
    "    input_prompt = [\n",
    "        {\"role\": \"user\", \"content\": f\"Summarize the following article:\\n {article}\"\n",
    "     ]\n",
    "    input_ids = tokenizer(input_prompt, return_tensors=\"pt\", truncation=True, max_length=1024).input_ids.to(model.device)\n",
    "\n",
    "    for _ in range(num_completions):\n",
    "        output_ids = model.generate(\n",
    "            input_ids=input_ids,\n",
    "            max_length=128,\n",
    "            num_return_sequences=1,\n",
    "            temperature=1.5,\n",
    "            top_p=0.9,\n",
    "            do_sample=True\n",
    "        )\n",
    "        summary = tokenizer.decode(output_ids[0], skip_special_tokens=True)\n",
    "        summaries.append(summary)\n",
    "    return summaries"
   ]
  },
  {
   "cell_type": "code",
   "execution_count": null,
   "metadata": {
    "trusted": true
   },
   "outputs": [],
   "source": [
    "def compute_rouge_scores(reference_summary, generated_summaries):\n",
    "    rouge_scores = []\n",
    "    for summary in generated_summaries:\n",
    "        scores = scorer.score(reference_summary, summary)\n",
    "        rouge_scores.append({\n",
    "            \"rouge1\": scores[\"rouge1\"].fmeasure,\n",
    "            \"rouge2\": scores[\"rouge2\"].fmeasure,\n",
    "            \"rougeL\": scores[\"rougeL\"].fmeasure\n",
    "        })\n",
    "    return rouge_scores"
   ]
  },
  {
   "cell_type": "code",
   "execution_count": null,
   "metadata": {
    "trusted": true
   },
   "outputs": [],
   "source": [
    "with open(output_file, \"w\") as f:\n",
    "    for idx, example in enumerate(dataset):\n",
    "        article = example[\"article\"]\n",
    "        reference_summary = example[\"highlights\"]\n",
    "\n",
    "        generated_summaries = generate_summaries(article, num_completions)\n",
    "        rouge_scores = compute_rouge_scores(reference_summary, generated_summaries)\n",
    "\n",
    "        result = {\n",
    "            \"example_id\": idx,\n",
    "            \"article\": article,\n",
    "            \"reference_summary\": reference_summary,\n",
    "            \"generated_summaries\": generated_summaries,\n",
    "            \"rouge_scores\": rouge_scores\n",
    "        }\n",
    "        f.write(json.dumps(result) + \"\\n\")\n",
    "        print(f\"Processed example {idx + 1}\")\n",
    "\n",
    "print(f\"Results saved to {output_file}\")"
   ]
  }
 ],
 "metadata": {
  "kaggle": {
   "accelerator": "none",
   "dataSources": [],
   "isGpuEnabled": false,
   "isInternetEnabled": true,
   "language": "python",
   "sourceType": "notebook"
  },
  "kernelspec": {
   "display_name": "Python 3",
   "language": "python",
   "name": "python3"
  },
  "language_info": {
   "codemirror_mode": {
    "name": "ipython",
    "version": 3
   },
   "file_extension": ".py",
   "mimetype": "text/x-python",
   "name": "python",
   "nbconvert_exporter": "python",
   "pygments_lexer": "ipython3",
   "version": "3.6.4"
  }
 },
 "nbformat": 4,
 "nbformat_minor": 4
}
